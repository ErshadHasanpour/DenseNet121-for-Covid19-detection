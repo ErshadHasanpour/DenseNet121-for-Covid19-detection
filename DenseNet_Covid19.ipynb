{
  "cells": [
    {
      "cell_type": "markdown",
      "source": [
        "<div style=\"display:block\" direction=rtl align=right><br><br>\n",
        "    <div  style=\"width:100%;margin:100;display:block\"  display=block align=center>\n",
        "        <img width=130 align=right src=\"https://i.ibb.co/yXKQmtZ/logo1.png\" style=\"margin:0;\" />\n",
        "        <img width=170 align=left  src=\"https://i.ibb.co/wLjqFkw/logo2.png\" style=\"margin:0;\" />\n",
        "        <span><br><font size=5>University of Tehran , school of ECE</font></span>\n",
        "        <span><br><font size=3>Neural Networks Course</font></span>\n",
        "        <span><br><font size=3>Fall 2022</font></span>\n",
        "\n",
        "</div>"
      ],
      "metadata": {
        "id": "ukgkSNp0L6y9"
      }
    },
    {
      "cell_type": "markdown",
      "source": [
        "## Loading Dataset"
      ],
      "metadata": {
        "id": "eEWScySxMGE5"
      }
    },
    {
      "cell_type": "code",
      "execution_count": null,
      "metadata": {
        "colab": {
          "base_uri": "https://localhost:8080/"
        },
        "id": "wKFA0GdPfP3N",
        "outputId": "a022f621-4f25-43cd-8717-8146eb1594b2"
      },
      "outputs": [
        {
          "name": "stdout",
          "output_type": "stream",
          "text": [
            "Looking in indexes: https://pypi.org/simple, https://us-python.pkg.dev/colab-wheels/public/simple/\n",
            "Requirement already satisfied: kaggle in /usr/local/lib/python3.8/dist-packages (1.5.12)\n",
            "Requirement already satisfied: tqdm in /usr/local/lib/python3.8/dist-packages (from kaggle) (4.64.1)\n",
            "Requirement already satisfied: python-slugify in /usr/local/lib/python3.8/dist-packages (from kaggle) (7.0.0)\n",
            "Requirement already satisfied: certifi in /usr/local/lib/python3.8/dist-packages (from kaggle) (2022.9.24)\n",
            "Requirement already satisfied: urllib3 in /usr/local/lib/python3.8/dist-packages (from kaggle) (1.24.3)\n",
            "Requirement already satisfied: six>=1.10 in /usr/local/lib/python3.8/dist-packages (from kaggle) (1.15.0)\n",
            "Requirement already satisfied: python-dateutil in /usr/local/lib/python3.8/dist-packages (from kaggle) (2.8.2)\n",
            "Requirement already satisfied: requests in /usr/local/lib/python3.8/dist-packages (from kaggle) (2.23.0)\n",
            "Requirement already satisfied: text-unidecode>=1.3 in /usr/local/lib/python3.8/dist-packages (from python-slugify->kaggle) (1.3)\n",
            "Requirement already satisfied: idna<3,>=2.5 in /usr/local/lib/python3.8/dist-packages (from requests->kaggle) (2.10)\n",
            "Requirement already satisfied: chardet<4,>=3.0.2 in /usr/local/lib/python3.8/dist-packages (from requests->kaggle) (3.0.4)\n"
          ]
        }
      ],
      "source": [
        "! pip install kaggle"
      ]
    },
    {
      "cell_type": "code",
      "execution_count": null,
      "metadata": {
        "colab": {
          "base_uri": "https://localhost:8080/"
        },
        "id": "dE1SCuYah0Iv",
        "outputId": "9c41e4b1-f9eb-4ddc-bedb-603c703128c5"
      },
      "outputs": [
        {
          "name": "stdout",
          "output_type": "stream",
          "text": [
            "Looking in indexes: https://pypi.org/simple, https://us-python.pkg.dev/colab-wheels/public/simple/\n",
            "Collecting opendatasets\n",
            "  Downloading opendatasets-0.1.22-py3-none-any.whl (15 kB)\n",
            "Requirement already satisfied: tqdm in /usr/local/lib/python3.8/dist-packages (from opendatasets) (4.64.1)\n",
            "Requirement already satisfied: kaggle in /usr/local/lib/python3.8/dist-packages (from opendatasets) (1.5.12)\n",
            "Requirement already satisfied: click in /usr/local/lib/python3.8/dist-packages (from opendatasets) (7.1.2)\n",
            "Requirement already satisfied: requests in /usr/local/lib/python3.8/dist-packages (from kaggle->opendatasets) (2.23.0)\n",
            "Requirement already satisfied: six>=1.10 in /usr/local/lib/python3.8/dist-packages (from kaggle->opendatasets) (1.15.0)\n",
            "Requirement already satisfied: python-dateutil in /usr/local/lib/python3.8/dist-packages (from kaggle->opendatasets) (2.8.2)\n",
            "Requirement already satisfied: certifi in /usr/local/lib/python3.8/dist-packages (from kaggle->opendatasets) (2022.9.24)\n",
            "Requirement already satisfied: urllib3 in /usr/local/lib/python3.8/dist-packages (from kaggle->opendatasets) (1.24.3)\n",
            "Requirement already satisfied: python-slugify in /usr/local/lib/python3.8/dist-packages (from kaggle->opendatasets) (7.0.0)\n",
            "Requirement already satisfied: text-unidecode>=1.3 in /usr/local/lib/python3.8/dist-packages (from python-slugify->kaggle->opendatasets) (1.3)\n",
            "Requirement already satisfied: idna<3,>=2.5 in /usr/local/lib/python3.8/dist-packages (from requests->kaggle->opendatasets) (2.10)\n",
            "Requirement already satisfied: chardet<4,>=3.0.2 in /usr/local/lib/python3.8/dist-packages (from requests->kaggle->opendatasets) (3.0.4)\n",
            "Installing collected packages: opendatasets\n",
            "Successfully installed opendatasets-0.1.22\n"
          ]
        }
      ],
      "source": [
        "! pip install opendatasets"
      ]
    },
    {
      "cell_type": "code",
      "execution_count": null,
      "metadata": {
        "colab": {
          "base_uri": "https://localhost:8080/"
        },
        "id": "uGe1aQc8h3qP",
        "outputId": "911dd962-fa11-4564-a74d-3e4d4e19370a"
      },
      "outputs": [
        {
          "name": "stdout",
          "output_type": "stream",
          "text": [
            "Please provide your Kaggle credentials to download this dataset. Learn more: http://bit.ly/kaggle-creds\n",
            "Your Kaggle username: orhanhasanpour\n",
            "Your Kaggle Key: ··········\n",
            "Downloading covid-19-xray-and-ct-scan-image-dataset.zip to ./covid-19-xray-and-ct-scan-image-dataset\n"
          ]
        },
        {
          "name": "stderr",
          "output_type": "stream",
          "text": [
            "100%|██████████| 3.74G/3.74G [00:23<00:00, 168MB/s]\n"
          ]
        },
        {
          "name": "stdout",
          "output_type": "stream",
          "text": [
            "\n"
          ]
        }
      ],
      "source": [
        "import opendatasets as od\n",
        "od.download('https://www.kaggle.com/datasets/ssarkar445/covid-19-xray-and-ct-scan-image-dataset')"
      ]
    },
    {
      "cell_type": "code",
      "execution_count": null,
      "metadata": {
        "id": "RmRk2_hBTP0u"
      },
      "outputs": [],
      "source": [
        "import numpy as np\n",
        "import pandas as pd\n",
        "import matplotlib.pyplot as plt\n",
        "%matplotlib inline\n",
        "import seaborn as sns\n",
        "import cv2\n",
        "import os\n",
        "from tqdm import tqdm\n",
        "from sklearn.metrics import confusion_matrix\n",
        "from sklearn.model_selection import train_test_split\n",
        "from keras.utils.np_utils import to_categorical\n",
        "from keras.models import Model,Sequential, load_model\n",
        "from keras.layers import Dense, Dropout, Flatten, Conv2D, MaxPool2D, BatchNormalization, AveragePooling2D, GlobalAveragePooling2D\n",
        "from keras.optimizers import Adam\n",
        "from keras.preprocessing.image import ImageDataGenerator\n",
        "from keras.callbacks import ModelCheckpoint, ReduceLROnPlateau\n",
        "from keras.applications import DenseNet121\n",
        "import tensorflow as tf"
      ]
    },
    {
      "cell_type": "code",
      "execution_count": null,
      "metadata": {
        "id": "h5-M_DAlkb4v"
      },
      "outputs": [],
      "source": [
        "disease_types=['COVID', 'Non-COVID']\n",
        "data_dir = '/content/covid-19-xray-and-ct-scan-image-dataset/COVID-19 Dataset/CT'\n",
        "train_dir = os.path.join(data_dir)"
      ]
    },
    {
      "cell_type": "code",
      "execution_count": null,
      "metadata": {
        "colab": {
          "base_uri": "https://localhost:8080/",
          "height": 206
        },
        "id": "o5o7y1i0Uhqv",
        "outputId": "ee29c79a-b0b5-49ec-fa5a-422889502007"
      },
      "outputs": [
        {
          "data": {
            "text/html": [
              "\n",
              "  <div id=\"df-18b161df-5be6-4da9-b75a-9f57ce8b6c76\">\n",
              "    <div class=\"colab-df-container\">\n",
              "      <div>\n",
              "<style scoped>\n",
              "    .dataframe tbody tr th:only-of-type {\n",
              "        vertical-align: middle;\n",
              "    }\n",
              "\n",
              "    .dataframe tbody tr th {\n",
              "        vertical-align: top;\n",
              "    }\n",
              "\n",
              "    .dataframe thead th {\n",
              "        text-align: right;\n",
              "    }\n",
              "</style>\n",
              "<table border=\"1\" class=\"dataframe\">\n",
              "  <thead>\n",
              "    <tr style=\"text-align: right;\">\n",
              "      <th></th>\n",
              "      <th>File</th>\n",
              "      <th>DiseaseID</th>\n",
              "      <th>Disease Type</th>\n",
              "    </tr>\n",
              "  </thead>\n",
              "  <tbody>\n",
              "    <tr>\n",
              "      <th>0</th>\n",
              "      <td>COVID/coronacases_org_003_z179.png</td>\n",
              "      <td>0</td>\n",
              "      <td>COVID</td>\n",
              "    </tr>\n",
              "    <tr>\n",
              "      <th>1</th>\n",
              "      <td>COVID/coronacases_org_010_z043.png</td>\n",
              "      <td>0</td>\n",
              "      <td>COVID</td>\n",
              "    </tr>\n",
              "    <tr>\n",
              "      <th>2</th>\n",
              "      <td>COVID/radiopaedia_org_covid-19-pneumonia-10_85...</td>\n",
              "      <td>0</td>\n",
              "      <td>COVID</td>\n",
              "    </tr>\n",
              "    <tr>\n",
              "      <th>3</th>\n",
              "      <td>COVID/coronacases_org_010_z178.png</td>\n",
              "      <td>0</td>\n",
              "      <td>COVID</td>\n",
              "    </tr>\n",
              "    <tr>\n",
              "      <th>4</th>\n",
              "      <td>COVID/coronacases_org_008_z045.png</td>\n",
              "      <td>0</td>\n",
              "      <td>COVID</td>\n",
              "    </tr>\n",
              "  </tbody>\n",
              "</table>\n",
              "</div>\n",
              "      <button class=\"colab-df-convert\" onclick=\"convertToInteractive('df-18b161df-5be6-4da9-b75a-9f57ce8b6c76')\"\n",
              "              title=\"Convert this dataframe to an interactive table.\"\n",
              "              style=\"display:none;\">\n",
              "        \n",
              "  <svg xmlns=\"http://www.w3.org/2000/svg\" height=\"24px\"viewBox=\"0 0 24 24\"\n",
              "       width=\"24px\">\n",
              "    <path d=\"M0 0h24v24H0V0z\" fill=\"none\"/>\n",
              "    <path d=\"M18.56 5.44l.94 2.06.94-2.06 2.06-.94-2.06-.94-.94-2.06-.94 2.06-2.06.94zm-11 1L8.5 8.5l.94-2.06 2.06-.94-2.06-.94L8.5 2.5l-.94 2.06-2.06.94zm10 10l.94 2.06.94-2.06 2.06-.94-2.06-.94-.94-2.06-.94 2.06-2.06.94z\"/><path d=\"M17.41 7.96l-1.37-1.37c-.4-.4-.92-.59-1.43-.59-.52 0-1.04.2-1.43.59L10.3 9.45l-7.72 7.72c-.78.78-.78 2.05 0 2.83L4 21.41c.39.39.9.59 1.41.59.51 0 1.02-.2 1.41-.59l7.78-7.78 2.81-2.81c.8-.78.8-2.07 0-2.86zM5.41 20L4 18.59l7.72-7.72 1.47 1.35L5.41 20z\"/>\n",
              "  </svg>\n",
              "      </button>\n",
              "      \n",
              "  <style>\n",
              "    .colab-df-container {\n",
              "      display:flex;\n",
              "      flex-wrap:wrap;\n",
              "      gap: 12px;\n",
              "    }\n",
              "\n",
              "    .colab-df-convert {\n",
              "      background-color: #E8F0FE;\n",
              "      border: none;\n",
              "      border-radius: 50%;\n",
              "      cursor: pointer;\n",
              "      display: none;\n",
              "      fill: #1967D2;\n",
              "      height: 32px;\n",
              "      padding: 0 0 0 0;\n",
              "      width: 32px;\n",
              "    }\n",
              "\n",
              "    .colab-df-convert:hover {\n",
              "      background-color: #E2EBFA;\n",
              "      box-shadow: 0px 1px 2px rgba(60, 64, 67, 0.3), 0px 1px 3px 1px rgba(60, 64, 67, 0.15);\n",
              "      fill: #174EA6;\n",
              "    }\n",
              "\n",
              "    [theme=dark] .colab-df-convert {\n",
              "      background-color: #3B4455;\n",
              "      fill: #D2E3FC;\n",
              "    }\n",
              "\n",
              "    [theme=dark] .colab-df-convert:hover {\n",
              "      background-color: #434B5C;\n",
              "      box-shadow: 0px 1px 3px 1px rgba(0, 0, 0, 0.15);\n",
              "      filter: drop-shadow(0px 1px 2px rgba(0, 0, 0, 0.3));\n",
              "      fill: #FFFFFF;\n",
              "    }\n",
              "  </style>\n",
              "\n",
              "      <script>\n",
              "        const buttonEl =\n",
              "          document.querySelector('#df-18b161df-5be6-4da9-b75a-9f57ce8b6c76 button.colab-df-convert');\n",
              "        buttonEl.style.display =\n",
              "          google.colab.kernel.accessAllowed ? 'block' : 'none';\n",
              "\n",
              "        async function convertToInteractive(key) {\n",
              "          const element = document.querySelector('#df-18b161df-5be6-4da9-b75a-9f57ce8b6c76');\n",
              "          const dataTable =\n",
              "            await google.colab.kernel.invokeFunction('convertToInteractive',\n",
              "                                                     [key], {});\n",
              "          if (!dataTable) return;\n",
              "\n",
              "          const docLinkHtml = 'Like what you see? Visit the ' +\n",
              "            '<a target=\"_blank\" href=https://colab.research.google.com/notebooks/data_table.ipynb>data table notebook</a>'\n",
              "            + ' to learn more about interactive tables.';\n",
              "          element.innerHTML = '';\n",
              "          dataTable['output_type'] = 'display_data';\n",
              "          await google.colab.output.renderOutput(dataTable, element);\n",
              "          const docLink = document.createElement('div');\n",
              "          docLink.innerHTML = docLinkHtml;\n",
              "          element.appendChild(docLink);\n",
              "        }\n",
              "      </script>\n",
              "    </div>\n",
              "  </div>\n",
              "  "
            ],
            "text/plain": [
              "                                                File  DiseaseID Disease Type\n",
              "0                 COVID/coronacases_org_003_z179.png          0        COVID\n",
              "1                 COVID/coronacases_org_010_z043.png          0        COVID\n",
              "2  COVID/radiopaedia_org_covid-19-pneumonia-10_85...          0        COVID\n",
              "3                 COVID/coronacases_org_010_z178.png          0        COVID\n",
              "4                 COVID/coronacases_org_008_z045.png          0        COVID"
            ]
          },
          "execution_count": 23,
          "metadata": {},
          "output_type": "execute_result"
        }
      ],
      "source": [
        "\n",
        "data = []\n",
        "for defects_id, sp in enumerate(disease_types):\n",
        "    for file in os.listdir(os.path.join(train_dir, sp)):\n",
        "        data.append(['{}/{}'.format(sp, file), defects_id, sp])\n",
        "\n",
        "dataset = pd.DataFrame(data, columns=['File', 'DiseaseID','Disease Type'])\n",
        "dataset.head()\n",
        "\n"
      ]
    },
    {
      "cell_type": "code",
      "execution_count": null,
      "metadata": {
        "colab": {
          "base_uri": "https://localhost:8080/",
          "height": 206
        },
        "id": "foUuGSfWWwSH",
        "outputId": "e85f4989-6fd0-48f0-b55b-0ac4a7a6cacd"
      },
      "outputs": [
        {
          "data": {
            "text/html": [
              "\n",
              "  <div id=\"df-5600b320-2dc5-4dd4-a6b8-711136171ea6\">\n",
              "    <div class=\"colab-df-container\">\n",
              "      <div>\n",
              "<style scoped>\n",
              "    .dataframe tbody tr th:only-of-type {\n",
              "        vertical-align: middle;\n",
              "    }\n",
              "\n",
              "    .dataframe tbody tr th {\n",
              "        vertical-align: top;\n",
              "    }\n",
              "\n",
              "    .dataframe thead th {\n",
              "        text-align: right;\n",
              "    }\n",
              "</style>\n",
              "<table border=\"1\" class=\"dataframe\">\n",
              "  <thead>\n",
              "    <tr style=\"text-align: right;\">\n",
              "      <th></th>\n",
              "      <th>File</th>\n",
              "      <th>DiseaseID</th>\n",
              "      <th>Disease Type</th>\n",
              "    </tr>\n",
              "  </thead>\n",
              "  <tbody>\n",
              "    <tr>\n",
              "      <th>0</th>\n",
              "      <td>COVID/tr_im_z094.png</td>\n",
              "      <td>0</td>\n",
              "      <td>COVID</td>\n",
              "    </tr>\n",
              "    <tr>\n",
              "      <th>1</th>\n",
              "      <td>Non-COVID/1.3.6.1.4.1.14519.5.2.1.6279.6001.22...</td>\n",
              "      <td>1</td>\n",
              "      <td>Non-COVID</td>\n",
              "    </tr>\n",
              "    <tr>\n",
              "      <th>2</th>\n",
              "      <td>COVID/tr_mask_z079.png</td>\n",
              "      <td>0</td>\n",
              "      <td>COVID</td>\n",
              "    </tr>\n",
              "    <tr>\n",
              "      <th>3</th>\n",
              "      <td>Non-COVID/1.3.6.1.4.1.14519.5.2.1.6279.6001.12...</td>\n",
              "      <td>1</td>\n",
              "      <td>Non-COVID</td>\n",
              "    </tr>\n",
              "    <tr>\n",
              "      <th>4</th>\n",
              "      <td>COVID/tr_mask_z069.png</td>\n",
              "      <td>0</td>\n",
              "      <td>COVID</td>\n",
              "    </tr>\n",
              "  </tbody>\n",
              "</table>\n",
              "</div>\n",
              "      <button class=\"colab-df-convert\" onclick=\"convertToInteractive('df-5600b320-2dc5-4dd4-a6b8-711136171ea6')\"\n",
              "              title=\"Convert this dataframe to an interactive table.\"\n",
              "              style=\"display:none;\">\n",
              "        \n",
              "  <svg xmlns=\"http://www.w3.org/2000/svg\" height=\"24px\"viewBox=\"0 0 24 24\"\n",
              "       width=\"24px\">\n",
              "    <path d=\"M0 0h24v24H0V0z\" fill=\"none\"/>\n",
              "    <path d=\"M18.56 5.44l.94 2.06.94-2.06 2.06-.94-2.06-.94-.94-2.06-.94 2.06-2.06.94zm-11 1L8.5 8.5l.94-2.06 2.06-.94-2.06-.94L8.5 2.5l-.94 2.06-2.06.94zm10 10l.94 2.06.94-2.06 2.06-.94-2.06-.94-.94-2.06-.94 2.06-2.06.94z\"/><path d=\"M17.41 7.96l-1.37-1.37c-.4-.4-.92-.59-1.43-.59-.52 0-1.04.2-1.43.59L10.3 9.45l-7.72 7.72c-.78.78-.78 2.05 0 2.83L4 21.41c.39.39.9.59 1.41.59.51 0 1.02-.2 1.41-.59l7.78-7.78 2.81-2.81c.8-.78.8-2.07 0-2.86zM5.41 20L4 18.59l7.72-7.72 1.47 1.35L5.41 20z\"/>\n",
              "  </svg>\n",
              "      </button>\n",
              "      \n",
              "  <style>\n",
              "    .colab-df-container {\n",
              "      display:flex;\n",
              "      flex-wrap:wrap;\n",
              "      gap: 12px;\n",
              "    }\n",
              "\n",
              "    .colab-df-convert {\n",
              "      background-color: #E8F0FE;\n",
              "      border: none;\n",
              "      border-radius: 50%;\n",
              "      cursor: pointer;\n",
              "      display: none;\n",
              "      fill: #1967D2;\n",
              "      height: 32px;\n",
              "      padding: 0 0 0 0;\n",
              "      width: 32px;\n",
              "    }\n",
              "\n",
              "    .colab-df-convert:hover {\n",
              "      background-color: #E2EBFA;\n",
              "      box-shadow: 0px 1px 2px rgba(60, 64, 67, 0.3), 0px 1px 3px 1px rgba(60, 64, 67, 0.15);\n",
              "      fill: #174EA6;\n",
              "    }\n",
              "\n",
              "    [theme=dark] .colab-df-convert {\n",
              "      background-color: #3B4455;\n",
              "      fill: #D2E3FC;\n",
              "    }\n",
              "\n",
              "    [theme=dark] .colab-df-convert:hover {\n",
              "      background-color: #434B5C;\n",
              "      box-shadow: 0px 1px 3px 1px rgba(0, 0, 0, 0.15);\n",
              "      filter: drop-shadow(0px 1px 2px rgba(0, 0, 0, 0.3));\n",
              "      fill: #FFFFFF;\n",
              "    }\n",
              "  </style>\n",
              "\n",
              "      <script>\n",
              "        const buttonEl =\n",
              "          document.querySelector('#df-5600b320-2dc5-4dd4-a6b8-711136171ea6 button.colab-df-convert');\n",
              "        buttonEl.style.display =\n",
              "          google.colab.kernel.accessAllowed ? 'block' : 'none';\n",
              "\n",
              "        async function convertToInteractive(key) {\n",
              "          const element = document.querySelector('#df-5600b320-2dc5-4dd4-a6b8-711136171ea6');\n",
              "          const dataTable =\n",
              "            await google.colab.kernel.invokeFunction('convertToInteractive',\n",
              "                                                     [key], {});\n",
              "          if (!dataTable) return;\n",
              "\n",
              "          const docLinkHtml = 'Like what you see? Visit the ' +\n",
              "            '<a target=\"_blank\" href=https://colab.research.google.com/notebooks/data_table.ipynb>data table notebook</a>'\n",
              "            + ' to learn more about interactive tables.';\n",
              "          element.innerHTML = '';\n",
              "          dataTable['output_type'] = 'display_data';\n",
              "          await google.colab.output.renderOutput(dataTable, element);\n",
              "          const docLink = document.createElement('div');\n",
              "          docLink.innerHTML = docLinkHtml;\n",
              "          element.appendChild(docLink);\n",
              "        }\n",
              "      </script>\n",
              "    </div>\n",
              "  </div>\n",
              "  "
            ],
            "text/plain": [
              "                                                File  DiseaseID Disease Type\n",
              "0                               COVID/tr_im_z094.png          0        COVID\n",
              "1  Non-COVID/1.3.6.1.4.1.14519.5.2.1.6279.6001.22...          1    Non-COVID\n",
              "2                             COVID/tr_mask_z079.png          0        COVID\n",
              "3  Non-COVID/1.3.6.1.4.1.14519.5.2.1.6279.6001.12...          1    Non-COVID\n",
              "4                             COVID/tr_mask_z069.png          0        COVID"
            ]
          },
          "execution_count": 24,
          "metadata": {},
          "output_type": "execute_result"
        }
      ],
      "source": [
        "\n",
        "dataset = dataset.sample(frac=1, random_state=42)\n",
        "dataset.index = np.arange(len(dataset)) # Reset indices\n",
        "dataset.head()"
      ]
    },
    {
      "cell_type": "code",
      "execution_count": null,
      "metadata": {
        "colab": {
          "base_uri": "https://localhost:8080/",
          "height": 287
        },
        "id": "wO0PFAvDXKEg",
        "outputId": "1880be2f-3986-49ea-88ad-f88ce98f985d"
      },
      "outputs": [
        {
          "data": {
            "text/plain": [
              "(630, 630, 3)"
            ]
          },
          "execution_count": 32,
          "metadata": {},
          "output_type": "execute_result"
        },
        {
          "data": {
            "image/png": "[encoded data removed]",
            "text/plain": [
              "<Figure size 432x288 with 1 Axes>"
            ]
          },
          "metadata": {
            "needs_background": "light"
          },
          "output_type": "display_data"
        }
      ],
      "source": [
        "image_path = os.path.join(data_dir, dataset['File'][50])\n",
        "img=cv2.imread(image_path)\n",
        "plt.imshow(img)\n",
        "img.shape"
      ]
    },
    {
      "cell_type": "markdown",
      "source": [
        "## Read and Resize"
      ],
      "metadata": {
        "id": "f3H4XJkdMXI-"
      }
    },
    {
      "cell_type": "code",
      "execution_count": null,
      "metadata": {
        "id": "tO5hu9tdYygY"
      },
      "outputs": [],
      "source": [
        "def read_image(filepath):\n",
        "    return cv2.imread(os.path.join(data_dir, filepath))\n",
        "def resize_image(image, image_size):\n",
        "    return cv2.resize(image.copy(), image_size, interpolation=cv2.INTER_AREA)"
      ]
    },
    {
      "cell_type": "code",
      "execution_count": null,
      "metadata": {
        "colab": {
          "base_uri": "https://localhost:8080/"
        },
        "id": "PqPM_g4VZVIT",
        "outputId": "372a6ef5-4e35-4134-c13e-0b1f7c57e7a2"
      },
      "outputs": [
        {
          "name": "stderr",
          "output_type": "stream",
          "text": [
            "8055it [00:40, 199.96it/s]\n"
          ]
        },
        {
          "name": "stdout",
          "output_type": "stream",
          "text": [
            "Train Shape: (8055, 64, 64, 3)\n"
          ]
        }
      ],
      "source": [
        "\n",
        "img_size = 64\n",
        "X = np.zeros((dataset.shape[0], img_size, img_size, 3))\n",
        "for i, file in tqdm(enumerate(dataset['File'].values)):\n",
        "    image = read_image(file)\n",
        "    if image is not None:\n",
        "        X[i] = resize_image(image, (img_size, img_size))\n",
        "# Normalize the data\n",
        "X = X / 255.\n",
        "print('Train Shape: {}'.format(X.shape))\n",
        "\n"
      ]
    },
    {
      "cell_type": "code",
      "execution_count": null,
      "metadata": {
        "id": "kFqYbV5HaMC9"
      },
      "outputs": [],
      "source": [
        "Y = dataset['DiseaseID'].values\n",
        "Y = to_categorical(Y, num_classes=2)"
      ]
    },
    {
      "cell_type": "code",
      "execution_count": null,
      "metadata": {
        "id": "UM7RnDtSaUQK"
      },
      "outputs": [],
      "source": [
        "# Split the train and validation and test sets\n",
        "X_train1, X_test, Y_train1, Y_test = train_test_split(X, Y, test_size=0.2, random_state=42)\n",
        "X_train, X_val, Y_train, Y_val = train_test_split(X_train1, Y_train1, test_size=0.2, random_state=42)"
      ]
    },
    {
      "cell_type": "markdown",
      "source": [
        "## Data Augmentation"
      ],
      "metadata": {
        "id": "msQmWuGbMkEQ"
      }
    },
    {
      "cell_type": "code",
      "source": [
        "datagen = ImageDataGenerator(rotation_range=360, # Degree range for random rotations\n",
        "                        width_shift_range=0.2, # Range for random horizontal shifts\n",
        "                        height_shift_range=0.2, # Range for random vertical shifts\n",
        "                        zoom_range=0.2, # Range for random zoom\n",
        "                        horizontal_flip=True, # Randomly flip inputs horizontally\n",
        "                        vertical_flip=True) # Randomly flip inputs vertically\n",
        "\n",
        "datagen.fit(X_train)"
      ],
      "metadata": {
        "id": "sFz0ky1CMiJE"
      },
      "execution_count": null,
      "outputs": []
    },
    {
      "cell_type": "code",
      "execution_count": null,
      "metadata": {
        "colab": {
          "base_uri": "https://localhost:8080/"
        },
        "id": "P4n-DMYFjvk_",
        "outputId": "491496c7-9e72-4e59-fc97-3bb932a5bcc2"
      },
      "outputs": [
        {
          "name": "stdout",
          "output_type": "stream",
          "text": [
            "(5155, 64, 64, 3)\n",
            "(1289, 64, 64, 3)\n",
            "(1611, 64, 64, 3)\n",
            "(5155, 2)\n",
            "(1289, 2)\n",
            "(1611, 2)\n"
          ]
        }
      ],
      "source": [
        "print(X_train.shape)\n",
        "print(X_val.shape)\n",
        "print(X_test.shape)\n",
        "print(Y_train.shape)\n",
        "print(Y_val.shape)\n",
        "print(Y_test.shape)"
      ]
    },
    {
      "cell_type": "markdown",
      "source": [
        "## Model Architecture"
      ],
      "metadata": {
        "id": "PyWsgZ3QMnkP"
      }
    },
    {
      "cell_type": "code",
      "execution_count": null,
      "metadata": {
        "colab": {
          "base_uri": "https://localhost:8080/"
        },
        "id": "deAJ3vCGcA_7",
        "outputId": "3c48d20f-9a75-4c66-a1c5-a63158fca1c3"
      },
      "outputs": [
        {
          "name": "stdout",
          "output_type": "stream",
          "text": [
            "Model: \"model_2\"\n",
            "_________________________________________________________________\n",
            " Layer (type)                Output Shape              Param #   \n",
            "=================================================================\n",
            " input_6 (InputLayer)        [(None, 64, 64, 3)]       0         \n",
            "                                                                 \n",
            " conv2d_2 (Conv2D)           (None, 64, 64, 3)         84        \n",
            "                                                                 \n",
            " densenet121 (Functional)    (None, None, None, 1024)  7037504   \n",
            "                                                                 \n",
            " global_average_pooling2d_2   (None, 1024)             0         \n",
            " (GlobalAveragePooling2D)                                        \n",
            "                                                                 \n",
            " batch_normalization_4 (Batc  (None, 1024)             4096      \n",
            " hNormalization)                                                 \n",
            "                                                                 \n",
            " dropout_4 (Dropout)         (None, 1024)              0         \n",
            "                                                                 \n",
            " dense_2 (Dense)             (None, 256)               262400    \n",
            "                                                                 \n",
            " batch_normalization_5 (Batc  (None, 256)              1024      \n",
            " hNormalization)                                                 \n",
            "                                                                 \n",
            " dropout_5 (Dropout)         (None, 256)               0         \n",
            "                                                                 \n",
            " root (Dense)                (None, 2)                 514       \n",
            "                                                                 \n",
            "=================================================================\n",
            "Total params: 7,305,622\n",
            "Trainable params: 7,219,414\n",
            "Non-trainable params: 86,208\n",
            "_________________________________________________________________\n"
          ]
        }
      ],
      "source": [
        "densenet = DenseNet121(weights='imagenet', include_top=False)\n",
        "input = tf.keras.Input(shape=(64, 64, 3))\n",
        "x = Conv2D(3, (3, 3), padding='same')(input)\n",
        "\n",
        "x = densenet(x)\n",
        "\n",
        "x = GlobalAveragePooling2D()(x)\n",
        "x = BatchNormalization()(x)\n",
        "x = Dropout(0.5)(x)\n",
        "x = Dense(256, activation='relu')(x)\n",
        "x = BatchNormalization()(x)\n",
        "x = Dropout(0.5)(x)\n",
        "\n",
        "# multi output\n",
        "output = Dense(2,activation = 'softmax', name='root')(x)\n",
        "model = Model(input,output)\n",
        "model.summary()"
      ]
    },
    {
      "cell_type": "markdown",
      "source": [
        "## Train"
      ],
      "metadata": {
        "id": "PtlA0aJ_MusH"
      }
    },
    {
      "cell_type": "code",
      "execution_count": null,
      "metadata": {
        "colab": {
          "base_uri": "https://localhost:8080/"
        },
        "id": "u2bkrM00dC13",
        "outputId": "1d5db982-b6fa-4c1a-fa2b-62463faa9908"
      },
      "outputs": [
        {
          "name": "stderr",
          "output_type": "stream",
          "text": [
            "/usr/local/lib/python3.8/dist-packages/keras/optimizers/optimizer_v2/adam.py:110: UserWarning: The `lr` argument is deprecated, use `learning_rate` instead.\n",
            "  super(Adam, self).__init__(name, **kwargs)\n",
            "<ipython-input-56-590c62d91729>:6: UserWarning: `Model.fit_generator` is deprecated and will be removed in a future version. Please use `Model.fit`, which supports generators.\n",
            "  hist = model.fit_generator(datagen.flow(X_train, Y_train, batch_size=batch),\n"
          ]
        },
        {
          "name": "stdout",
          "output_type": "stream",
          "text": [
            "Epoch 1/50\n",
            "80/80 [==============================] - 28s 180ms/step - loss: 1.0440 - accuracy: 0.6007 - val_loss: 0.7168 - val_accuracy: 0.6874\n",
            "Epoch 2/50\n",
            "80/80 [==============================] - 10s 130ms/step - loss: 0.6861 - accuracy: 0.7181 - val_loss: 0.6024 - val_accuracy: 0.7075\n",
            "Epoch 3/50\n",
            "80/80 [==============================] - 10s 121ms/step - loss: 0.4914 - accuracy: 0.7812 - val_loss: 0.5703 - val_accuracy: 0.7292\n",
            "Epoch 4/50\n",
            "80/80 [==============================] - 10s 122ms/step - loss: 0.4068 - accuracy: 0.8148 - val_loss: 0.5700 - val_accuracy: 0.7471\n",
            "Epoch 5/50\n",
            "80/80 [==============================] - 13s 159ms/step - loss: 0.3621 - accuracy: 0.8330 - val_loss: 0.2987 - val_accuracy: 0.8619\n",
            "Epoch 6/50\n",
            "80/80 [==============================] - 10s 120ms/step - loss: 0.3395 - accuracy: 0.8399 - val_loss: 0.2750 - val_accuracy: 0.8813\n",
            "Epoch 7/50\n",
            "80/80 [==============================] - 10s 121ms/step - loss: 0.3325 - accuracy: 0.8525 - val_loss: 0.2481 - val_accuracy: 0.8945\n",
            "Epoch 8/50\n",
            "80/80 [==============================] - 10s 122ms/step - loss: 0.3056 - accuracy: 0.8649 - val_loss: 0.2420 - val_accuracy: 0.8968\n",
            "Epoch 9/50\n",
            "80/80 [==============================] - 10s 121ms/step - loss: 0.2967 - accuracy: 0.8619 - val_loss: 0.2470 - val_accuracy: 0.8976\n",
            "Epoch 10/50\n",
            "80/80 [==============================] - 10s 121ms/step - loss: 0.2816 - accuracy: 0.8719 - val_loss: 0.2724 - val_accuracy: 0.8821\n",
            "Epoch 11/50\n",
            "80/80 [==============================] - 10s 121ms/step - loss: 0.2687 - accuracy: 0.8796 - val_loss: 0.2390 - val_accuracy: 0.9054\n",
            "Epoch 12/50\n",
            "80/80 [==============================] - 10s 121ms/step - loss: 0.2625 - accuracy: 0.8778 - val_loss: 0.2256 - val_accuracy: 0.9092\n",
            "Epoch 13/50\n",
            "80/80 [==============================] - 10s 130ms/step - loss: 0.2543 - accuracy: 0.8865 - val_loss: 0.2204 - val_accuracy: 0.9240\n",
            "Epoch 14/50\n",
            "80/80 [==============================] - 14s 172ms/step - loss: 0.2604 - accuracy: 0.8845 - val_loss: 0.2501 - val_accuracy: 0.8782\n",
            "Epoch 15/50\n",
            "80/80 [==============================] - 11s 141ms/step - loss: 0.2550 - accuracy: 0.8924 - val_loss: 0.2223 - val_accuracy: 0.9147\n",
            "Epoch 16/50\n",
            "80/80 [==============================] - 10s 125ms/step - loss: 0.2526 - accuracy: 0.8922 - val_loss: 0.2161 - val_accuracy: 0.9240\n",
            "Epoch 17/50\n",
            "80/80 [==============================] - 10s 130ms/step - loss: 0.2356 - accuracy: 0.8951 - val_loss: 0.2315 - val_accuracy: 0.9085\n",
            "Epoch 18/50\n",
            "80/80 [==============================] - 10s 131ms/step - loss: 0.2371 - accuracy: 0.8951 - val_loss: 0.2399 - val_accuracy: 0.8953\n",
            "Epoch 19/50\n",
            "80/80 [==============================] - 10s 129ms/step - loss: 0.2285 - accuracy: 0.9016 - val_loss: 0.2115 - val_accuracy: 0.9232\n",
            "Epoch 20/50\n",
            "80/80 [==============================] - 10s 121ms/step - loss: 0.2240 - accuracy: 0.9018 - val_loss: 0.1902 - val_accuracy: 0.9325\n",
            "Epoch 21/50\n",
            "80/80 [==============================] - 10s 121ms/step - loss: 0.2137 - accuracy: 0.9089 - val_loss: 0.1896 - val_accuracy: 0.9310\n",
            "Epoch 22/50\n",
            "80/80 [==============================] - 10s 121ms/step - loss: 0.2213 - accuracy: 0.9026 - val_loss: 0.2190 - val_accuracy: 0.9116\n",
            "Epoch 23/50\n",
            "80/80 [==============================] - 10s 121ms/step - loss: 0.2107 - accuracy: 0.9073 - val_loss: 0.1957 - val_accuracy: 0.9216\n",
            "Epoch 24/50\n",
            "80/80 [==============================] - 10s 128ms/step - loss: 0.2115 - accuracy: 0.9112 - val_loss: 0.1709 - val_accuracy: 0.9387\n",
            "Epoch 25/50\n",
            "80/80 [==============================] - 11s 135ms/step - loss: 0.2039 - accuracy: 0.9157 - val_loss: 0.2729 - val_accuracy: 0.8829\n",
            "Epoch 26/50\n",
            "80/80 [==============================] - 11s 141ms/step - loss: 0.1993 - accuracy: 0.9165 - val_loss: 0.2148 - val_accuracy: 0.9077\n",
            "Epoch 27/50\n",
            "80/80 [==============================] - 10s 129ms/step - loss: 0.2035 - accuracy: 0.9148 - val_loss: 0.3693 - val_accuracy: 0.8487\n",
            "Epoch 28/50\n",
            "80/80 [==============================] - 10s 121ms/step - loss: 0.1972 - accuracy: 0.9183 - val_loss: 0.2009 - val_accuracy: 0.9247\n",
            "Epoch 29/50\n",
            "80/80 [==============================] - 10s 122ms/step - loss: 0.1996 - accuracy: 0.9157 - val_loss: 0.1733 - val_accuracy: 0.9395\n",
            "Epoch 30/50\n",
            "80/80 [==============================] - 10s 121ms/step - loss: 0.1873 - accuracy: 0.9246 - val_loss: 0.3803 - val_accuracy: 0.8596\n",
            "Epoch 31/50\n",
            "80/80 [==============================] - 10s 121ms/step - loss: 0.1774 - accuracy: 0.9244 - val_loss: 0.1865 - val_accuracy: 0.9317\n",
            "Epoch 32/50\n",
            "80/80 [==============================] - 10s 121ms/step - loss: 0.1905 - accuracy: 0.9146 - val_loss: 0.1919 - val_accuracy: 0.9286\n",
            "Epoch 33/50\n",
            "80/80 [==============================] - 15s 185ms/step - loss: 0.1794 - accuracy: 0.9228 - val_loss: 0.1717 - val_accuracy: 0.9364\n",
            "Epoch 34/50\n",
            "80/80 [==============================] - 13s 164ms/step - loss: 0.1934 - accuracy: 0.9208 - val_loss: 0.1869 - val_accuracy: 0.9286\n",
            "Epoch 35/50\n",
            "80/80 [==============================] - 10s 121ms/step - loss: 0.1767 - accuracy: 0.9218 - val_loss: 0.1682 - val_accuracy: 0.9418\n",
            "Epoch 36/50\n",
            "80/80 [==============================] - 10s 123ms/step - loss: 0.1891 - accuracy: 0.9185 - val_loss: 0.2088 - val_accuracy: 0.9216\n",
            "Epoch 37/50\n",
            "80/80 [==============================] - 10s 130ms/step - loss: 0.1839 - accuracy: 0.9248 - val_loss: 0.1742 - val_accuracy: 0.9403\n",
            "Epoch 38/50\n",
            "80/80 [==============================] - 10s 122ms/step - loss: 0.1738 - accuracy: 0.9299 - val_loss: 0.1687 - val_accuracy: 0.9333\n",
            "Epoch 39/50\n",
            "80/80 [==============================] - 10s 121ms/step - loss: 0.1758 - accuracy: 0.9258 - val_loss: 0.1622 - val_accuracy: 0.9434\n",
            "Epoch 40/50\n",
            "80/80 [==============================] - 10s 120ms/step - loss: 0.1775 - accuracy: 0.9256 - val_loss: 0.1816 - val_accuracy: 0.9341\n",
            "Epoch 41/50\n",
            "80/80 [==============================] - 11s 139ms/step - loss: 0.1651 - accuracy: 0.9301 - val_loss: 0.2630 - val_accuracy: 0.8984\n",
            "Epoch 42/50\n",
            "80/80 [==============================] - 10s 129ms/step - loss: 0.1705 - accuracy: 0.9265 - val_loss: 0.1973 - val_accuracy: 0.9279\n",
            "Epoch 43/50\n",
            "80/80 [==============================] - 14s 177ms/step - loss: 0.1697 - accuracy: 0.9309 - val_loss: 0.2562 - val_accuracy: 0.9030\n",
            "Epoch 44/50\n",
            "80/80 [==============================] - 11s 134ms/step - loss: 0.1564 - accuracy: 0.9360 - val_loss: 0.1728 - val_accuracy: 0.9310\n",
            "Epoch 45/50\n",
            "80/80 [==============================] - 13s 160ms/step - loss: 0.1647 - accuracy: 0.9342 - val_loss: 0.2506 - val_accuracy: 0.9232\n",
            "Epoch 46/50\n",
            "80/80 [==============================] - 10s 129ms/step - loss: 0.1584 - accuracy: 0.9324 - val_loss: 0.2622 - val_accuracy: 0.8968\n",
            "Epoch 47/50\n",
            "80/80 [==============================] - 14s 173ms/step - loss: 0.1549 - accuracy: 0.9358 - val_loss: 0.2973 - val_accuracy: 0.8844\n",
            "Epoch 48/50\n",
            "80/80 [==============================] - 11s 135ms/step - loss: 0.1537 - accuracy: 0.9413 - val_loss: 0.5593 - val_accuracy: 0.8254\n",
            "Epoch 49/50\n",
            "80/80 [==============================] - 11s 132ms/step - loss: 0.1540 - accuracy: 0.9348 - val_loss: 0.3362 - val_accuracy: 0.8619\n",
            "Epoch 50/50\n",
            "80/80 [==============================] - 12s 148ms/step - loss: 0.1451 - accuracy: 0.9383 - val_loss: 0.2097 - val_accuracy: 0.9379\n"
          ]
        }
      ],
      "source": [
        "batch = 64\n",
        "n_epoch=50\n",
        "Optim = tf.keras.optimizers.Adam(lr=0.002, beta_1=0.9, beta_2=0.999, epsilon=0.1, decay=0.0)\n",
        "model.compile(loss='categorical_crossentropy', optimizer=Optim, metrics=['accuracy'])\n",
        "# Fits the model on batches with real-time data augmentation\n",
        "hist = model.fit_generator(datagen.flow(X_train, Y_train, batch_size=batch),\n",
        "               steps_per_epoch=X_train.shape[0] // batch,\n",
        "               epochs=n_epoch,\n",
        "               validation_data=(X_val,Y_val))"
      ]
    },
    {
      "cell_type": "markdown",
      "source": [
        "# Loss and Accuracy Curves"
      ],
      "metadata": {
        "id": "hPQ2aUnOMx9M"
      }
    },
    {
      "cell_type": "code",
      "execution_count": null,
      "metadata": {
        "colab": {
          "base_uri": "https://localhost:8080/",
          "height": 573
        },
        "id": "aFaVsw6HnPcK",
        "outputId": "edc0310c-e7e5-4f85-e6c4-8d761f5570a7"
      },
      "outputs": [
        {
          "data": {
            "image/png": "[encoded data removed]",
            "text/plain": [
              "<Figure size 432x288 with 1 Axes>"
            ]
          },
          "metadata": {
            "needs_background": "light"
          },
          "output_type": "display_data"
        },
        {
          "data": {
            "image/png": "[encoded data removed]",
            "text/plain": [
              "<Figure size 432x288 with 1 Axes>"
            ]
          },
          "metadata": {
            "needs_background": "light"
          },
          "output_type": "display_data"
        }
      ],
      "source": [
        "# summarize history for accuracy\n",
        "plt.plot(hist.history['accuracy'])\n",
        "plt.plot(hist.history['val_accuracy'])\n",
        "plt.title('model accuracy')\n",
        "plt.ylabel('accuracy')\n",
        "plt.xlabel('epoch')\n",
        "plt.legend(['train', 'val'], loc='lower right')\n",
        "plt.show()\n",
        "# summarize history for loss\n",
        "plt.plot(hist.history['loss'])\n",
        "plt.plot(hist.history['val_loss'])\n",
        "plt.title('model loss')\n",
        "plt.ylabel('loss')\n",
        "plt.xlabel('epoch')\n",
        "plt.legend(['train', 'val'], loc='upper right')\n",
        "plt.show()"
      ]
    },
    {
      "cell_type": "markdown",
      "source": [
        "## Results on Test Set"
      ],
      "metadata": {
        "id": "wO8iiN3tM9tZ"
      }
    },
    {
      "cell_type": "code",
      "execution_count": null,
      "metadata": {
        "colab": {
          "base_uri": "https://localhost:8080/",
          "height": 462
        },
        "id": "Ti6dfPq4lDGr",
        "outputId": "41bba7ac-f61c-478e-873b-4f95dbde3f30"
      },
      "outputs": [
        {
          "name": "stdout",
          "output_type": "stream",
          "text": [
            "51/51 [==============================] - 1s 20ms/step - loss: 0.1559 - accuracy: 0.9323\n",
            "Loss(Error): 0.15593251585960388, Accuracy: 0.932340145111084\n",
            "51/51 [==============================] - 1s 16ms/step\n",
            "Confusion Matrix: \n",
            "[[1019   42]\n",
            " [  67  483]]\n",
            "accuracy:  0.9323401613904407\n",
            "precision:  [0.93830571 0.92      ]\n",
            "f1_score:  [0.94923149 0.89860465]\n",
            "precision (Macro Average):  0.9291528545119705\n",
            "f1_score (Macro Average):  0.923918068478461\n"
          ]
        },
        {
          "data": {
            "image/png": "[encoded data removed]",
            "text/plain": [
              "<Figure size 432x288 with 2 Axes>"
            ]
          },
          "metadata": {
            "needs_background": "light"
          },
          "output_type": "display_data"
        }
      ],
      "source": [
        "from sklearn.metrics import precision_score, recall_score, accuracy_score, f1_score, confusion_matrix\n",
        "#Loss and Accuracy\n",
        "Loss, Accuracy = model.evaluate(X_test, Y_test)\n",
        "print('Loss(Error): {}, Accuracy: {}'.format(Loss, Accuracy))\n",
        "\n",
        "# predict crisp classes for test set\n",
        "yhat = model.predict(X_test)\n",
        "y_pred = np.argmax(yhat,axis=1)\n",
        "Y_test_binary= np.argmax(Y_test,axis=1)\n",
        "#confusion matrix\n",
        "cf_matrix = confusion_matrix(Y_test_binary, y_pred)\n",
        "import seaborn as sns\n",
        "sns.heatmap(cf_matrix, annot=True)\n",
        "print('Confusion Matrix: ')\n",
        "print(cf_matrix)\n",
        "# accuracy: (tp + tn) / (p + n)\n",
        "accuracy = accuracy_score(Y_test_binary, y_pred)\n",
        "print('accuracy:  %s' % accuracy)\n",
        "# precision: tp / (tp + fp)\n",
        "precision = precision_score(Y_test_binary, y_pred,average=None)\n",
        "print('precision:  %s' % precision)\n",
        "# f1: 2 tp / (2 tp + fp + fn)\n",
        "f1 = f1_score(Y_test_binary, y_pred,average=None)\n",
        "print('f1_score:  %s' % f1)\n",
        "\n",
        "## macro\n",
        "# precision: tp / (tp + fp)\n",
        "precision = precision_score(Y_test_binary, y_pred,average='macro')\n",
        "print('precision (Macro Average):  %s' % precision)\n",
        "# f1: 2 tp / (2 tp + fp + fn)\n",
        "f1 = f1_score(Y_test_binary, y_pred,average='macro')\n",
        "print('f1_score (Macro Average):  %s' % f1)"
      ]
    }
  ],
  "metadata": {
    "colab": {
      "provenance": []
    },
    "gpuClass": "standard",
    "kernelspec": {
      "display_name": "Python 3 (ipykernel)",
      "language": "python",
      "name": "python3"
    },
    "language_info": {
      "codemirror_mode": {
        "name": "ipython",
        "version": 3
      },
      "file_extension": ".py",
      "mimetype": "text/x-python",
      "name": "python",
      "nbconvert_exporter": "python",
      "pygments_lexer": "ipython3",
      "version": "3.9.12"
    }
  },
  "nbformat": 4,
  "nbformat_minor": 0
}